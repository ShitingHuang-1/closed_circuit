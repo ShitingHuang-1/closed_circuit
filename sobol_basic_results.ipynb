{
 "cells": [
  {
   "cell_type": "code",
   "execution_count": null,
   "id": "ffd2b600-4a83-49ed-b11e-94422767fd32",
   "metadata": {},
   "outputs": [
    {
     "data": {
      "application/vnd.jupyter.widget-view+json": {
       "model_id": "77db9e2514154c0fa827decbd7c877e1",
       "version_major": 2,
       "version_minor": 0
      },
      "text/plain": [
       "  0%|          | 0/896 [00:00<?, ?it/s]"
      ]
     },
     "metadata": {},
     "output_type": "display_data"
    }
   ],
   "source": [
    "import numpy as np\n",
    "import scipy as sp\n",
    "import sympy\n",
    "import math\n",
    "import matplotlib.pyplot as plt\n",
    "from closed_circuit import *\n",
    "from SALib.sample import sobol as sobol_sam\n",
    "from tqdm import tqdm \n",
    "from p_tqdm import p_map\n",
    "def ODE(params):\n",
    "    C_p, Za_p, R_p, Emax_rv, Emin_rv = params\n",
    "    rv=heart(tau1 = 0.269*T, tau2 = 0.452*T, m1 = 1.32, m2 = 27.4, Emax = Emax_rv, Emin = Emin_rv, V0 = 10, T = T, deltat = 0.01) # Ks, V0 ,T\n",
    "    cap_p=PressureSystem(C_p, Za_p, R_p)\n",
    "    \n",
    "    def dydt(t, y):\n",
    "        v_lv = y[0]\n",
    "        v_la = y[1]\n",
    "        q_av = y[2]\n",
    "        q_mv = y[3]\n",
    "        xi_av = y[4]\n",
    "        xi_mv = y[5]\n",
    "        #pressure of capillaries in systemic circulation\n",
    "        pa = y[6]\n",
    "        v_rv = y[7]\n",
    "        v_ra = y[8]\n",
    "        q_tv = y[9]\n",
    "        q_pv = y[10]\n",
    "        xi_tv = y[11]\n",
    "        xi_pv = y[12]\n",
    "        #pressure of capillaries in pulmonary circulation\n",
    "        pb = y[13]\n",
    "\n",
    "        #calculate parameters\n",
    "        #systemic\n",
    "        p_la = la.p(v_la,t)\n",
    "        p_lv = lv.p(v_lv,t)\n",
    "        #p_aa: pressure at the coupling point of av and capillaries\n",
    "        p_aa = cap_s.pi(q_av,pa)\n",
    "        #pulmonary\n",
    "        p_ra = ra.p(v_ra,t)\n",
    "        p_rv = rv.p(v_rv,t)\n",
    "        #q_cap2: flow out the capillaries of pulmonary circulation\n",
    "        q_cap2 = cap_p.qout(pb,p_la)\n",
    "        #p_pa: pressure at the coupling point of pv and capillaries\n",
    "        p_pa = cap_p.pi(q_tv,pb)\n",
    "        #q_cap1: flow out the capillaries of systemic circulation\n",
    "        q_cap1 = cap_s.qout(pa,p_ra)\n",
    "\n",
    "        #derivative\n",
    "        #la\n",
    "        dv_la = la.dv(t,v_la,q_cap2,q_mv)\n",
    "        dxi_mv = mv.dxi(t,xi_mv,p_la,p_lv)\n",
    "        dq_mv = mv.dq(t,q_mv,xi_mv,p_la,p_lv)\n",
    "        #lv\n",
    "        dv_lv = lv.dv(t,v_lv,q_mv,q_av)\n",
    "        dxi_av = av.dxi(t,xi_av,p_lv,p_aa)\n",
    "        dq_av = av.dq(t,q_av,xi_av,p_lv,p_aa)\n",
    "        #cap sys\n",
    "        dpa = cap_s.dp_original(t,pa,q_av,p_ra)\n",
    "        #ra\n",
    "        dv_ra = ra.dv(t,v_ra,q_cap1,q_tv)\n",
    "        dxi_tv = tv.dxi(t,xi_tv,p_ra,p_rv)\n",
    "        dq_tv = tv.dq(t,q_tv,xi_tv,p_ra,p_rv)\n",
    "        #rv\n",
    "        dv_rv = rv.dv(t,v_rv,q_tv,q_pv)\n",
    "        dxi_pv = pv.dxi(t,xi_pv,p_rv,p_pa)\n",
    "        dq_pv = pv.dq(t,q_pv,xi_pv,p_rv,p_pa)\n",
    "        #cap pul\n",
    "        dpb = cap_p.dp_original(t,pb,q_pv,p_la)\n",
    "\n",
    "        #derivative vector\n",
    "        dy = np.array([dv_lv, dv_la, \n",
    "                       dq_av, dq_mv, \n",
    "                       dxi_av, dxi_mv, \n",
    "                       dpa, \n",
    "                       dv_rv, dv_ra, \n",
    "                       dq_tv, dq_pv, \n",
    "                       dxi_tv, dxi_pv, \n",
    "                       dpb])\n",
    "        return dy\n",
    "\n",
    "    y_initial = np.array([135, 27, #lv, la\n",
    "                      150, 10, #qav, qmv\n",
    "                      0.01, 0.5, #xi_av, xi_mv\n",
    "                      5*1333, #pa\n",
    "                      180, 40, #v_rv, v_ra \n",
    "                      150, 10, #q_tv, q_pv\n",
    "                      0.01, 0.5, #xi_tv, xi_pv\n",
    "                      5*1333]) # pb\n",
    "    \n",
    "    sol = sp.integrate.solve_ivp(dydt , t , y0 = y_initial , t_eval = t_span, method='LSODA')\n",
    "    \n",
    "    sol.t = sol.t[int(T*1000):int(T*1100)]\n",
    "    v_lv = sol.y[0][int(T*1000):int(T*1100)]\n",
    "    v_la = sol.y[1][int(T*1000):int(T*1100)]\n",
    "    q_av = sol.y[2][int(T*1000):int(T*1100)]\n",
    "    q_mv = sol.y[3][int(T*1000):int(T*1100)]\n",
    "    xi_av = sol.y[4][int(T*1000):int(T*1100)]\n",
    "    xi_mv = sol.y[5][int(T*1000):int(T*1100)]\n",
    "    pa = sol.y[6][int(T*1000):int(T*1100)]\n",
    "    v_rv = sol.y[7][int(T*1000):int(T*1100)]\n",
    "    v_ra = sol.y[8][int(T*1000):int(T*1100)]\n",
    "    q_tv = sol.y[9][int(T*1000):int(T*1100)]\n",
    "    q_pv = sol.y[10][int(T*1000):int(T*1100)]\n",
    "    xi_tv = sol.y[11][int(T*1000):int(T*1100)]\n",
    "    xi_pv = sol.y[12][int(T*1000):int(T*1100)]\n",
    "    pb = sol.y[13][int(T*1000):int(T*1100)]\n",
    "    \n",
    "    p_lv, p_rv, p_la, p_ra, p_ao, p_pa = [], [], [], [], [], []\n",
    "    for i,j in zip(sol.t,range(len(sol.t))):\n",
    "        p_lv.append(lv.p(v_lv[j], i))\n",
    "        p_la.append(la.p(v_la[j], i))\n",
    "        p_ra.append(ra.p(v_ra[j], i))\n",
    "        p_rv.append(rv.p(v_rv[j], i))\n",
    "        p_ao.append(cap_s.pi(q_av[j], pa[j]))\n",
    "        p_pa.append(cap_p.pi(q_pv[j], pb[j]))\n",
    "    p_lv, p_rv, p_ao, p_pa, p_la, p_ra= np.array(p_lv)/1333, np.array(p_rv)/1333, np.array(p_ao)/1333, np.array(p_pa)/1333, np.array(p_la)/1333, np.array(p_ra)/1333\n",
    "    rvedv = max(v_rv)\n",
    "    rvesv = min(v_rv)\n",
    "    lvedv = max(v_lv)\n",
    "    lvesv = min(v_lv)\n",
    "    lvsv = lvedv - lvesv\n",
    "    rvsv = rvedv - rvesv\n",
    "    lvef = lvsv/lvedv\n",
    "    rvef = rvsv/rvedv\n",
    "    lvsp = max(p_lv)\n",
    "    rvsp = max(p_rv)\n",
    "    pasp = max(p_pa)\n",
    "    padp = min(p_pa)\n",
    "    return lvsp, rvsp, pasp, padp, lvedv, lvesv, rvedv, rvesv, lvsv, rvsv, lvef, rvef\n",
    "if __name__ == \"__main__\":\n",
    "    T = 0.8    \n",
    "    problem = {\n",
    "        'num_vars': 5,\n",
    "        'names': ['C_p', 'Za_p', 'R_p', 'Emax_rv','Emin_rv'],\n",
    "        'bounds': [[0.0005,0.01], [1, 60], [50, 500], [0.2, 2], [0.01, 0.16]] \n",
    "    }\n",
    "    \n",
    "    param_values =  sobol_sam.sample(problem, 128, calc_second_order = False) #65536*8\n",
    "    \n",
    "    t_end = 8.9\n",
    "    num_cpu = 32\n",
    "    t_step = 0.01\n",
    "    t = [0,t_end]\n",
    "    t_span=np.arange(0, t_end, t_step)\n",
    "\n",
    "    lv=heart(tau1 = 0.269*T, tau2 = 0.452*T, m1 = 1.32, m2 = 27.4, Emax = 3, Emin = 0.08, V0 = 10,T = T, deltat = 0.01)# V0 (mL), T (s)\n",
    "    la=heart(tau1 = 0.110*T, tau2 = 0.180*T, m1 = 1.32, m2 = 13.1, Emax = 0.17, Emin = 0.08, V0 = 3,T = T, deltat = 0.01, delay = 0.85*T) # V0 (mL), T (s)\n",
    "    ra=heart(tau1 = 0.110*T, tau2 = 0.180*T, m1 = 1.32, m2 = 13.1, Emax = 0.15, Emin = 0.04, V0 = 3, T = T, deltat = 0.01, delay = 0.85*T) # Ks, V0, T\n",
    "    cap_s=PressureSystem(0.00061      , 103.44867    , 1471.26289)\n",
    "    \n",
    "    av=ValveinP(density = 1.06, eff_length = 2.2,Aann = 5, Kvo = 0.12,Kvc = 0.15, p_oc = 0)\n",
    "    mv=ValveinP(density = 1.06,eff_length =1.9,Aann = 5, Kvo = 0.3,Kvc = 0.4, p_oc = 0)\n",
    "    tv=ValveinP(1.06,2,6, 0.3,0.4, 0) #poc (mmHg)\n",
    "    pv=ValveinP(1.06,1.9,2.8, 0.2,0.2, 0) #poc\n",
    "    \n",
    "    results = np.array(p_map(ODE, param_values, num_cpus = num_cpu))\n",
    "    label = ['lvsp', 'rvsp', 'pasp', 'padp', 'lvedv', 'lvesv', 'rvedv', 'rvesv', 'lvsv', 'rvsv', 'lvef', 'rvef']\n",
    "    for i,j in zip(label, range(results.shape[1])):\n",
    "        globals()[f'{i}'] = results[:,j]\n",
    "    data_to_save = {\n",
    "    'param_value_all': param_values,\n",
    "    'lvsp': lvsp,\n",
    "    'rvsp': rvsp,\n",
    "    'pasp': pasp,\n",
    "    'padp': padp,\n",
    "    'lvedv': lvedv,\n",
    "    'lvesv': lvesv,\n",
    "    'rvedv': rvedv,\n",
    "    'rvesv': rvesv,\n",
    "    'lvsv': lvsv,\n",
    "    'rvsv': rvsv,\n",
    "    'lvef': lvef,\n",
    "    'rvef': rvef}\n",
    "\n",
    "    np.savez_compressed('results.npz', **data_to_save)"
   ]
  },
  {
   "cell_type": "code",
   "execution_count": 2,
   "id": "577a7738-64ac-41b2-976c-0a87797dee71",
   "metadata": {},
   "outputs": [
    {
     "name": "stdout",
     "output_type": "stream",
     "text": [
      "lvsp 0\n",
      "rvsp 1\n",
      "pasp 2\n",
      "padp 3\n",
      "lvedv 4\n",
      "lvesv 5\n",
      "rvedv 6\n",
      "rvesv 7\n",
      "lvsv 8\n",
      "rvsv 9\n",
      "lvef 10\n",
      "rvef 11\n"
     ]
    }
   ],
   "source": [
    "label = ['lvsp', 'rvsp', 'pasp', 'padp', 'lvedv', 'lvesv', 'rvedv', 'rvesv', 'lvsv', 'rvsv', 'lvef', 'rvef']\n",
    "for i,j in zip(label, range(len(label))):\n",
    "    #globals()[f'{i}'] = results[:,j]\n",
    "    print(i,j)"
   ]
  },
  {
   "cell_type": "code",
   "execution_count": 15,
   "id": "fef16756-fca0-495a-998b-75dacb5d5d72",
   "metadata": {},
   "outputs": [],
   "source": [
    "        data_to_save = {\n",
    "    'param_value_all': param_values,\n",
    "    'lvsp': lvsp,\n",
    "    'rvsp': rvsp,\n",
    "    'pasp': pasp,\n",
    "    'padp': padp,\n",
    "    'lvedv': lvedv,\n",
    "    'lvesv': lvesv,\n",
    "    'rvedv': rvedv,\n",
    "    'rvesv': rvesv,\n",
    "    'lvsv': lvsv,\n",
    "    'rvsv': rvsv,\n",
    "    'lvef': lvef,\n",
    "    'rvef': rvef}\n"
   ]
  },
  {
   "cell_type": "code",
   "execution_count": 8,
   "id": "1203379c-810e-4acd-9140-8b0412c9acf7",
   "metadata": {},
   "outputs": [
    {
     "data": {
      "text/plain": [
       "array([ 80.42704226,  76.81637378,  80.42232622, 120.39766252,\n",
       "        74.25601042])"
      ]
     },
     "execution_count": 8,
     "metadata": {},
     "output_type": "execute_result"
    }
   ],
   "source": [
    "results[:,0][:5]"
   ]
  },
  {
   "cell_type": "code",
   "execution_count": 9,
   "id": "68054eb1-d10e-44fa-a7d7-15977d0f7a5b",
   "metadata": {},
   "outputs": [
    {
     "name": "stdout",
     "output_type": "stream",
     "text": [
      "(896, 12)\n"
     ]
    }
   ],
   "source": [
    "print(results.shape)"
   ]
  },
  {
   "cell_type": "code",
   "execution_count": null,
   "id": "f457a523-7613-48d7-94da-d7745c47eaeb",
   "metadata": {},
   "outputs": [],
   "source": []
  }
 ],
 "metadata": {
  "kernelspec": {
   "display_name": "Python 3 (ipykernel)",
   "language": "python",
   "name": "python3"
  },
  "language_info": {
   "codemirror_mode": {
    "name": "ipython",
    "version": 3
   },
   "file_extension": ".py",
   "mimetype": "text/x-python",
   "name": "python",
   "nbconvert_exporter": "python",
   "pygments_lexer": "ipython3",
   "version": "3.10.6"
  }
 },
 "nbformat": 4,
 "nbformat_minor": 5
}
