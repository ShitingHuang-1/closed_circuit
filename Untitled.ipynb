{
 "cells": [
  {
   "cell_type": "code",
   "execution_count": 78,
   "id": "38058d37-bf3a-4d59-8d18-27f3617ee456",
   "metadata": {},
   "outputs": [
    {
     "name": "stdout",
     "output_type": "stream",
     "text": [
      "1536\n"
     ]
    }
   ],
   "source": [
    "import numpy as np\n",
    "from SALib.sample import sobol_sequence\n",
    "from SALib.sample import sobol\n",
    "\n",
    "# 定义问题\n",
    "problem = {\n",
    "    'num_vars': 2,\n",
    "    'names': ['X1', 'X2'],\n",
    "    'bounds': [[0, 1], [0, 1]]\n",
    "}\n",
    "\n",
    "# 生成样本\n",
    "param_values = sobol.sample(problem, 256) \n",
    "\n",
    "\n",
    "print(len(param_values))  # 打印前5个样本看看"
   ]
  },
  {
   "cell_type": "code",
   "execution_count": 79,
   "id": "19f20b39-4199-40ba-b70f-e78a0ad45f3c",
   "metadata": {},
   "outputs": [
    {
     "data": {
      "text/plain": [
       "array([0.  , 0.01, 0.02, 0.03, 0.04, 0.05, 0.06, 0.07, 0.08, 0.09, 0.1 ,\n",
       "       0.11, 0.12, 0.13, 0.14, 0.15, 0.16, 0.17, 0.18, 0.19, 0.2 , 0.21,\n",
       "       0.22, 0.23, 0.24, 0.25, 0.26, 0.27, 0.28, 0.29, 0.3 , 0.31, 0.32,\n",
       "       0.33, 0.34, 0.35, 0.36, 0.37, 0.38, 0.39, 0.4 , 0.41, 0.42, 0.43,\n",
       "       0.44, 0.45, 0.46, 0.47, 0.48, 0.49, 0.5 , 0.51, 0.52, 0.53, 0.54,\n",
       "       0.55, 0.56, 0.57, 0.58, 0.59, 0.6 , 0.61, 0.62, 0.63, 0.64, 0.65,\n",
       "       0.66, 0.67, 0.68, 0.69, 0.7 , 0.71, 0.72, 0.73, 0.74, 0.75, 0.76,\n",
       "       0.77, 0.78, 0.79, 0.8 , 0.81, 0.82, 0.83, 0.84, 0.85, 0.86, 0.87,\n",
       "       0.88, 0.89, 0.9 , 0.91, 0.92, 0.93, 0.94, 0.95, 0.96, 0.97, 0.98,\n",
       "       0.99])"
      ]
     },
     "execution_count": 79,
     "metadata": {},
     "output_type": "execute_result"
    }
   ],
   "source": [
    "np.arange(0,1,0.01)"
   ]
  },
  {
   "cell_type": "code",
   "execution_count": 68,
   "id": "3c276046-f2f8-4e54-84ed-d037a3357d8f",
   "metadata": {},
   "outputs": [
    {
     "name": "stdout",
     "output_type": "stream",
     "text": [
      "[1.01205623 2.11153276 1.00381806 1.00381806 2.11153276]\n",
      "[1.01205623 2.11153276 1.00381806 1.00381806 2.11153276 2.09879288\n",
      " 1.54570077 0.29945573 0.99859594 0.99859594 0.29945573 0.02018547]\n"
     ]
    }
   ],
   "source": [
    "# 定义模型\n",
    "def model(X):\n",
    "    return X[:, 0] + X[:, 1] + X[:, 0] * X[:, 1]\n",
    "\n",
    "# 计算输出\n",
    "Y = model(param_values)\n",
    "\n",
    "print(Y[:5])  # 打印前5个输出看看\n",
    "print(Y)"
   ]
  },
  {
   "cell_type": "code",
   "execution_count": 18,
   "id": "61a06eeb-ff60-4788-9d16-b0d6ddfd99de",
   "metadata": {},
   "outputs": [
    {
     "name": "stdout",
     "output_type": "stream",
     "text": [
      "S1: [0.49040069 0.49306122]\n",
      "ST: [0.51005196 0.50966226]\n"
     ]
    }
   ],
   "source": [
    "from SALib.analyze import sobol\n",
    "# 计算敏感性指数\n",
    "Si = sobol.analyze(problem, Y)\n",
    "\n",
    "# 打印结果\n",
    "print(\"S1:\", Si['S1'])  # 一阶敏感性指数\n",
    "print(\"ST:\", Si['ST'])  # 总敏感性指数\n"
   ]
  },
  {
   "cell_type": "code",
   "execution_count": 32,
   "id": "566e93ec-925a-4a60-b744-21c82b1e4a45",
   "metadata": {},
   "outputs": [
    {
     "name": "stdout",
     "output_type": "stream",
     "text": [
      "0.4012864762917161 0.01379065029323101\n",
      "0.28136389423161745 0.01379065029323101\n",
      "0.4012864762917161 0.0952455997467041\n",
      "0.4012864762917161 0.0952455997467041\n",
      "0.28136389423161745 0.01379065029323101\n",
      "0.28136389423161745 0.0952455997467041\n",
      "0.5191682213917375 0.862516070716083\n",
      "0.8558487771078944 0.862516070716083\n",
      "0.5191682213917375 0.8558477563783526\n",
      "0.5191682213917375 0.8558477563783526\n",
      "0.8558487771078944 0.862516070716083\n",
      "0.8558487771078944 0.8558477563783526\n"
     ]
    }
   ],
   "source": [
    "for i in param_values:\n",
    "    print(i[0],i[1])"
   ]
  },
  {
   "cell_type": "code",
   "execution_count": 41,
   "id": "b5ea3d7f-3512-462d-aded-21cc0dc24f78",
   "metadata": {},
   "outputs": [],
   "source": [
    "import tqdm"
   ]
  },
  {
   "cell_type": "code",
   "execution_count": 49,
   "id": "d2762137-183a-4155-a764-03f43fe12424",
   "metadata": {},
   "outputs": [],
   "source": [
    "initial_shape = (0, 3)\n",
    "empty_array = np.empty(initial_shape)"
   ]
  },
  {
   "cell_type": "code",
   "execution_count": 50,
   "id": "fbe22587-e5c4-4991-8d1b-bcf62c52b081",
   "metadata": {},
   "outputs": [
    {
     "name": "stdout",
     "output_type": "stream",
     "text": [
      "[]\n"
     ]
    }
   ],
   "source": [
    "print(empty_array)"
   ]
  },
  {
   "cell_type": "code",
   "execution_count": 51,
   "id": "6da55de6-5b8f-4e3e-adde-fa6aac4d0ce2",
   "metadata": {},
   "outputs": [],
   "source": [
    "a= [[2,3],[1,2]]"
   ]
  },
  {
   "cell_type": "code",
   "execution_count": 52,
   "id": "1b76981e-250b-4da9-91e2-49100456072f",
   "metadata": {},
   "outputs": [
    {
     "data": {
      "text/plain": [
       "list"
      ]
     },
     "execution_count": 52,
     "metadata": {},
     "output_type": "execute_result"
    }
   ],
   "source": [
    "type(a)"
   ]
  },
  {
   "cell_type": "code",
   "execution_count": 64,
   "id": "dccd6c34-ba25-44f2-b7e4-3e2af8b61eec",
   "metadata": {},
   "outputs": [
    {
     "data": {
      "text/plain": [
       "numpy.ndarray"
      ]
     },
     "execution_count": 64,
     "metadata": {},
     "output_type": "execute_result"
    }
   ],
   "source": [
    "b=np.array(a)\n",
    "type(b[0])"
   ]
  },
  {
   "cell_type": "code",
   "execution_count": 59,
   "id": "4227f967-fbba-4d49-8c85-41b13482f9e4",
   "metadata": {},
   "outputs": [],
   "source": [
    "c=[]"
   ]
  },
  {
   "cell_type": "code",
   "execution_count": 61,
   "id": "5d88db6c-2d20-4779-8a3d-51d641b3bace",
   "metadata": {},
   "outputs": [
    {
     "data": {
      "text/plain": [
       "[[], []]"
      ]
     },
     "execution_count": 61,
     "metadata": {},
     "output_type": "execute_result"
    }
   ],
   "source": [
    "a1=[[]]\n",
    "a1= a1*2\n",
    "a1"
   ]
  },
  {
   "cell_type": "code",
   "execution_count": 77,
   "id": "6b917edc-5a98-421e-9bfe-ee23ed214313",
   "metadata": {},
   "outputs": [
    {
     "name": "stdout",
     "output_type": "stream",
     "text": [
      "0\n",
      "1\n",
      "2\n",
      "3\n",
      "4\n",
      "5\n",
      "6\n",
      "7\n",
      "8\n",
      "9\n",
      "10\n",
      "11\n",
      "12\n",
      "13\n",
      "14\n",
      "15\n",
      "16\n",
      "17\n",
      "18\n",
      "19\n",
      "20\n",
      "21\n",
      "22\n",
      "23\n",
      "24\n",
      "25\n",
      "26\n",
      "27\n",
      "28\n",
      "29\n",
      "30\n",
      "31\n",
      "32\n",
      "33\n",
      "34\n",
      "35\n",
      "36\n",
      "37\n",
      "38\n",
      "39\n",
      "40\n",
      "41\n",
      "42\n",
      "43\n",
      "44\n",
      "45\n",
      "46\n",
      "47\n",
      "48\n",
      "49\n",
      "50\n",
      "51\n",
      "52\n",
      "53\n",
      "54\n",
      "55\n",
      "56\n",
      "57\n",
      "58\n",
      "59\n",
      "60\n",
      "61\n",
      "62\n",
      "63\n",
      "64\n",
      "65\n",
      "66\n",
      "67\n",
      "68\n",
      "69\n",
      "70\n",
      "71\n",
      "72\n",
      "73\n",
      "74\n",
      "75\n",
      "76\n",
      "77\n",
      "78\n",
      "79\n"
     ]
    }
   ],
   "source": [
    "index_range = slice(1320, 1400)\n",
    "t=0\n",
    "for i in range(0,index_range.stop-index_range.start):\n",
    "    t = t+1\n",
    "    print(i)"
   ]
  },
  {
   "cell_type": "code",
   "execution_count": null,
   "id": "1f294e28-9e02-4566-baa1-a49fb1c4c41c",
   "metadata": {},
   "outputs": [],
   "source": []
  }
 ],
 "metadata": {
  "kernelspec": {
   "display_name": "Python 3 (ipykernel)",
   "language": "python",
   "name": "python3"
  },
  "language_info": {
   "codemirror_mode": {
    "name": "ipython",
    "version": 3
   },
   "file_extension": ".py",
   "mimetype": "text/x-python",
   "name": "python",
   "nbconvert_exporter": "python",
   "pygments_lexer": "ipython3",
   "version": "3.10.6"
  }
 },
 "nbformat": 4,
 "nbformat_minor": 5
}
