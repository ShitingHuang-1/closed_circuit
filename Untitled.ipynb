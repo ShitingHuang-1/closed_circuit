{
 "cells": [
  {
   "cell_type": "code",
   "execution_count": 3,
   "id": "34037efc-8df9-4c07-9b1e-d9ee8e130c47",
   "metadata": {},
   "outputs": [
    {
     "name": "stdout",
     "output_type": "stream",
     "text": [
      "[1 2 3 2 3]\n"
     ]
    }
   ],
   "source": [
    "import numpy as np\n",
    "a = 1.5\n",
    "b = [1,2,3]\n",
    "c = [2,3]\n",
    "d = np.concatenate((b,c))\n",
    "print(d)"
   ]
  },
  {
   "cell_type": "code",
   "execution_count": null,
   "id": "74878fbc-fc63-4ad8-8d67-a3ab63bdd9ff",
   "metadata": {},
   "outputs": [],
   "source": []
  }
 ],
 "metadata": {
  "kernelspec": {
   "display_name": "Python 3 (ipykernel)",
   "language": "python",
   "name": "python3"
  },
  "language_info": {
   "codemirror_mode": {
    "name": "ipython",
    "version": 3
   },
   "file_extension": ".py",
   "mimetype": "text/x-python",
   "name": "python",
   "nbconvert_exporter": "python",
   "pygments_lexer": "ipython3",
   "version": "3.10.6"
  }
 },
 "nbformat": 4,
 "nbformat_minor": 5
}
